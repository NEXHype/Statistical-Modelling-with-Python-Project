{
 "cells": [
  {
   "cell_type": "markdown",
   "metadata": {},
   "source": [
    "Build a regression model."
   ]
  },
  {
   "cell_type": "code",
   "execution_count": 1,
   "metadata": {
    "tags": []
   },
   "outputs": [],
   "source": [
    "import numpy as np\n",
    "import pandas as pd\n",
    "import statsmodels.api as sm"
   ]
  },
  {
   "cell_type": "code",
   "execution_count": 20,
   "metadata": {
    "tags": []
   },
   "outputs": [],
   "source": [
    "#building a multivariate regression model\n",
    "X = pd.read_csv('joined_data.csv')\n",
    "y = pd.Series(X['num_of_bikes'], name='total_bikes')"
   ]
  },
  {
   "cell_type": "code",
   "execution_count": 21,
   "metadata": {
    "tags": []
   },
   "outputs": [],
   "source": [
    "X = X.drop(['bike_station_location', 'name', 'main_category_x', 'address', 'price', 'status', 'main_category_y', 'num_of_bikes'], axis=1)"
   ]
  },
  {
   "cell_type": "code",
   "execution_count": 22,
   "metadata": {
    "tags": []
   },
   "outputs": [
    {
     "data": {
      "text/html": [
       "<div>\n",
       "<style scoped>\n",
       "    .dataframe tbody tr th:only-of-type {\n",
       "        vertical-align: middle;\n",
       "    }\n",
       "\n",
       "    .dataframe tbody tr th {\n",
       "        vertical-align: top;\n",
       "    }\n",
       "\n",
       "    .dataframe thead th {\n",
       "        text-align: right;\n",
       "    }\n",
       "</style>\n",
       "<table border=\"1\" class=\"dataframe\">\n",
       "  <thead>\n",
       "    <tr style=\"text-align: right;\">\n",
       "      <th></th>\n",
       "      <th>rating</th>\n",
       "      <th>review_count</th>\n",
       "      <th>distance_away_x</th>\n",
       "      <th>latitude</th>\n",
       "      <th>longitude</th>\n",
       "    </tr>\n",
       "  </thead>\n",
       "  <tbody>\n",
       "    <tr>\n",
       "      <th>0</th>\n",
       "      <td>4.0</td>\n",
       "      <td>1735</td>\n",
       "      <td>82.518277</td>\n",
       "      <td>45.511950</td>\n",
       "      <td>-122.614160</td>\n",
       "    </tr>\n",
       "    <tr>\n",
       "      <th>1</th>\n",
       "      <td>4.5</td>\n",
       "      <td>487</td>\n",
       "      <td>225.793673</td>\n",
       "      <td>45.511950</td>\n",
       "      <td>-122.614160</td>\n",
       "    </tr>\n",
       "    <tr>\n",
       "      <th>2</th>\n",
       "      <td>4.0</td>\n",
       "      <td>408</td>\n",
       "      <td>33.461068</td>\n",
       "      <td>45.511950</td>\n",
       "      <td>-122.614160</td>\n",
       "    </tr>\n",
       "    <tr>\n",
       "      <th>3</th>\n",
       "      <td>3.5</td>\n",
       "      <td>270</td>\n",
       "      <td>58.987619</td>\n",
       "      <td>45.511950</td>\n",
       "      <td>-122.614160</td>\n",
       "    </tr>\n",
       "    <tr>\n",
       "      <th>4</th>\n",
       "      <td>4.0</td>\n",
       "      <td>374</td>\n",
       "      <td>340.597357</td>\n",
       "      <td>45.548276</td>\n",
       "      <td>-122.611164</td>\n",
       "    </tr>\n",
       "    <tr>\n",
       "      <th>...</th>\n",
       "      <td>...</td>\n",
       "      <td>...</td>\n",
       "      <td>...</td>\n",
       "      <td>...</td>\n",
       "      <td>...</td>\n",
       "    </tr>\n",
       "    <tr>\n",
       "      <th>577</th>\n",
       "      <td>4.5</td>\n",
       "      <td>703</td>\n",
       "      <td>896.491052</td>\n",
       "      <td>45.596562</td>\n",
       "      <td>-122.747900</td>\n",
       "    </tr>\n",
       "    <tr>\n",
       "      <th>578</th>\n",
       "      <td>4.5</td>\n",
       "      <td>235</td>\n",
       "      <td>829.466752</td>\n",
       "      <td>45.596562</td>\n",
       "      <td>-122.747900</td>\n",
       "    </tr>\n",
       "    <tr>\n",
       "      <th>579</th>\n",
       "      <td>3.5</td>\n",
       "      <td>256</td>\n",
       "      <td>905.682509</td>\n",
       "      <td>45.596562</td>\n",
       "      <td>-122.747900</td>\n",
       "    </tr>\n",
       "    <tr>\n",
       "      <th>580</th>\n",
       "      <td>4.0</td>\n",
       "      <td>238</td>\n",
       "      <td>141.103916</td>\n",
       "      <td>45.517899</td>\n",
       "      <td>-122.660052</td>\n",
       "    </tr>\n",
       "    <tr>\n",
       "      <th>581</th>\n",
       "      <td>4.0</td>\n",
       "      <td>286</td>\n",
       "      <td>202.268601</td>\n",
       "      <td>45.517899</td>\n",
       "      <td>-122.660052</td>\n",
       "    </tr>\n",
       "  </tbody>\n",
       "</table>\n",
       "<p>582 rows × 5 columns</p>\n",
       "</div>"
      ],
      "text/plain": [
       "     rating  review_count  distance_away_x   latitude   longitude\n",
       "0       4.0          1735        82.518277  45.511950 -122.614160\n",
       "1       4.5           487       225.793673  45.511950 -122.614160\n",
       "2       4.0           408        33.461068  45.511950 -122.614160\n",
       "3       3.5           270        58.987619  45.511950 -122.614160\n",
       "4       4.0           374       340.597357  45.548276 -122.611164\n",
       "..      ...           ...              ...        ...         ...\n",
       "577     4.5           703       896.491052  45.596562 -122.747900\n",
       "578     4.5           235       829.466752  45.596562 -122.747900\n",
       "579     3.5           256       905.682509  45.596562 -122.747900\n",
       "580     4.0           238       141.103916  45.517899 -122.660052\n",
       "581     4.0           286       202.268601  45.517899 -122.660052\n",
       "\n",
       "[582 rows x 5 columns]"
      ]
     },
     "execution_count": 22,
     "metadata": {},
     "output_type": "execute_result"
    }
   ],
   "source": [
    "X"
   ]
  },
  {
   "cell_type": "code",
   "execution_count": 23,
   "metadata": {
    "tags": []
   },
   "outputs": [],
   "source": [
    "X = sm.add_constant(X) # adding a constant\n",
    "lin_reg = sm.OLS(y,X)"
   ]
  },
  {
   "cell_type": "markdown",
   "metadata": {},
   "source": [
    "Provide model output and an interpretation of the results. "
   ]
  },
  {
   "cell_type": "code",
   "execution_count": 24,
   "metadata": {
    "tags": []
   },
   "outputs": [
    {
     "name": "stdout",
     "output_type": "stream",
     "text": [
      "                            OLS Regression Results                            \n",
      "==============================================================================\n",
      "Dep. Variable:            total_bikes   R-squared:                       0.186\n",
      "Model:                            OLS   Adj. R-squared:                  0.179\n",
      "Method:                 Least Squares   F-statistic:                     26.31\n",
      "Date:                Sat, 26 Aug 2023   Prob (F-statistic):           5.72e-24\n",
      "Time:                        15:30:39   Log-Likelihood:                -1708.5\n",
      "No. Observations:                 582   AIC:                             3429.\n",
      "Df Residuals:                     576   BIC:                             3455.\n",
      "Df Model:                           5                                         \n",
      "Covariance Type:            nonrobust                                         \n",
      "===================================================================================\n",
      "                      coef    std err          t      P>|t|      [0.025      0.975]\n",
      "-----------------------------------------------------------------------------------\n",
      "const           -1968.6443    553.366     -3.558      0.000   -3055.506    -881.783\n",
      "rating             -0.6341      0.473     -1.341      0.180      -1.563       0.294\n",
      "review_count        0.0004      0.000      1.689      0.092   -6.71e-05       0.001\n",
      "distance_away_x    -0.0013      0.001     -1.477      0.140      -0.003       0.000\n",
      "latitude          -68.6197      8.579     -7.998      0.000     -85.470     -51.769\n",
      "longitude         -41.6267      4.779     -8.711      0.000     -51.013     -32.241\n",
      "==============================================================================\n",
      "Omnibus:                       21.926   Durbin-Watson:                   0.600\n",
      "Prob(Omnibus):                  0.000   Jarque-Bera (JB):               14.088\n",
      "Skew:                           0.245   Prob(JB):                     0.000872\n",
      "Kurtosis:                       2.416   Cond. No.                     2.98e+06\n",
      "==============================================================================\n",
      "\n",
      "Notes:\n",
      "[1] Standard Errors assume that the covariance matrix of the errors is correctly specified.\n",
      "[2] The condition number is large, 2.98e+06. This might indicate that there are\n",
      "strong multicollinearity or other numerical problems.\n"
     ]
    }
   ],
   "source": [
    "model = lin_reg.fit()\n",
    "print_model = model.summary()\n",
    "print(print_model)"
   ]
  },
  {
   "cell_type": "code",
   "execution_count": 25,
   "metadata": {
    "tags": []
   },
   "outputs": [],
   "source": [
    "#some variables have high P values, so backwards selection was used to eliminate the highest P values one by one\n",
    "#until either all P values were below the standard 0.05 or the adjusted R-squared value stopped increasing\n",
    "X = X.drop(['rating'], axis=1)"
   ]
  },
  {
   "cell_type": "code",
   "execution_count": 26,
   "metadata": {
    "tags": []
   },
   "outputs": [],
   "source": [
    "X = sm.add_constant(X) # adding a constant\n",
    "lin_reg = sm.OLS(y,X)"
   ]
  },
  {
   "cell_type": "code",
   "execution_count": 27,
   "metadata": {
    "tags": []
   },
   "outputs": [
    {
     "name": "stdout",
     "output_type": "stream",
     "text": [
      "                            OLS Regression Results                            \n",
      "==============================================================================\n",
      "Dep. Variable:            total_bikes   R-squared:                       0.183\n",
      "Model:                            OLS   Adj. R-squared:                  0.178\n",
      "Method:                 Least Squares   F-statistic:                     32.39\n",
      "Date:                Sat, 26 Aug 2023   Prob (F-statistic):           2.25e-24\n",
      "Time:                        15:50:55   Log-Likelihood:                -1709.4\n",
      "No. Observations:                 582   AIC:                             3429.\n",
      "Df Residuals:                     577   BIC:                             3451.\n",
      "Df Model:                           4                                         \n",
      "Covariance Type:            nonrobust                                         \n",
      "===================================================================================\n",
      "                      coef    std err          t      P>|t|      [0.025      0.975]\n",
      "-----------------------------------------------------------------------------------\n",
      "const           -1785.3116    536.591     -3.327      0.001   -2839.222    -731.401\n",
      "review_count        0.0004      0.000      1.509      0.132      -0.000       0.001\n",
      "distance_away_x    -0.0014      0.001     -1.560      0.119      -0.003       0.000\n",
      "latitude          -66.8178      8.479     -7.880      0.000     -83.472     -50.164\n",
      "longitude         -39.4420      4.496     -8.773      0.000     -48.272     -30.612\n",
      "==============================================================================\n",
      "Omnibus:                       22.845   Durbin-Watson:                   0.588\n",
      "Prob(Omnibus):                  0.000   Jarque-Bera (JB):               14.747\n",
      "Skew:                           0.255   Prob(JB):                     0.000628\n",
      "Kurtosis:                       2.411   Cond. No.                     2.89e+06\n",
      "==============================================================================\n",
      "\n",
      "Notes:\n",
      "[1] Standard Errors assume that the covariance matrix of the errors is correctly specified.\n",
      "[2] The condition number is large, 2.89e+06. This might indicate that there are\n",
      "strong multicollinearity or other numerical problems.\n"
     ]
    }
   ],
   "source": [
    "model = lin_reg.fit()\n",
    "print_model = model.summary()\n",
    "print(print_model)"
   ]
  },
  {
   "cell_type": "code",
   "execution_count": 28,
   "metadata": {
    "tags": []
   },
   "outputs": [],
   "source": [
    "X= X.drop(['review_count'], axis=1)"
   ]
  },
  {
   "cell_type": "code",
   "execution_count": 29,
   "metadata": {
    "tags": []
   },
   "outputs": [],
   "source": [
    "X = sm.add_constant(X) # adding a constant\n",
    "lin_reg = sm.OLS(y,X)"
   ]
  },
  {
   "cell_type": "code",
   "execution_count": 30,
   "metadata": {
    "tags": []
   },
   "outputs": [
    {
     "name": "stdout",
     "output_type": "stream",
     "text": [
      "                            OLS Regression Results                            \n",
      "==============================================================================\n",
      "Dep. Variable:            total_bikes   R-squared:                       0.180\n",
      "Model:                            OLS   Adj. R-squared:                  0.176\n",
      "Method:                 Least Squares   F-statistic:                     42.33\n",
      "Date:                Sat, 26 Aug 2023   Prob (F-statistic):           9.69e-25\n",
      "Time:                        15:52:34   Log-Likelihood:                -1710.6\n",
      "No. Observations:                 582   AIC:                             3429.\n",
      "Df Residuals:                     578   BIC:                             3447.\n",
      "Df Model:                           3                                         \n",
      "Covariance Type:            nonrobust                                         \n",
      "===================================================================================\n",
      "                      coef    std err          t      P>|t|      [0.025      0.975]\n",
      "-----------------------------------------------------------------------------------\n",
      "const           -1858.0473    535.012     -3.473      0.001   -2908.851    -807.243\n",
      "distance_away_x    -0.0014      0.001     -1.616      0.107      -0.003       0.000\n",
      "latitude          -68.5382      8.412     -8.148      0.000     -85.059     -52.017\n",
      "longitude         -40.6758      4.426     -9.191      0.000     -49.368     -31.983\n",
      "==============================================================================\n",
      "Omnibus:                       23.320   Durbin-Watson:                   0.582\n",
      "Prob(Omnibus):                  0.000   Jarque-Bera (JB):               14.529\n",
      "Skew:                           0.244   Prob(JB):                     0.000700\n",
      "Kurtosis:                       2.399   Cond. No.                     1.14e+06\n",
      "==============================================================================\n",
      "\n",
      "Notes:\n",
      "[1] Standard Errors assume that the covariance matrix of the errors is correctly specified.\n",
      "[2] The condition number is large, 1.14e+06. This might indicate that there are\n",
      "strong multicollinearity or other numerical problems.\n"
     ]
    }
   ],
   "source": [
    "model = lin_reg.fit()\n",
    "print_model = model.summary()\n",
    "print(print_model)"
   ]
  },
  {
   "cell_type": "code",
   "execution_count": 31,
   "metadata": {
    "tags": []
   },
   "outputs": [],
   "source": [
    "X = X.drop(['distance_away_x'], axis=1)"
   ]
  },
  {
   "cell_type": "code",
   "execution_count": 32,
   "metadata": {
    "tags": []
   },
   "outputs": [],
   "source": [
    "X = sm.add_constant(X) # adding a constant\n",
    "lin_reg = sm.OLS(y,X)"
   ]
  },
  {
   "cell_type": "code",
   "execution_count": 33,
   "metadata": {
    "tags": []
   },
   "outputs": [
    {
     "name": "stdout",
     "output_type": "stream",
     "text": [
      "                            OLS Regression Results                            \n",
      "==============================================================================\n",
      "Dep. Variable:            total_bikes   R-squared:                       0.176\n",
      "Model:                            OLS   Adj. R-squared:                  0.174\n",
      "Method:                 Least Squares   F-statistic:                     62.02\n",
      "Date:                Sat, 26 Aug 2023   Prob (F-statistic):           3.94e-25\n",
      "Time:                        15:57:43   Log-Likelihood:                -1711.9\n",
      "No. Observations:                 582   AIC:                             3430.\n",
      "Df Residuals:                     579   BIC:                             3443.\n",
      "Df Model:                           2                                         \n",
      "Covariance Type:            nonrobust                                         \n",
      "==============================================================================\n",
      "                 coef    std err          t      P>|t|      [0.025      0.975]\n",
      "------------------------------------------------------------------------------\n",
      "const      -1749.0209    531.477     -3.291      0.001   -2792.880    -705.162\n",
      "latitude     -72.6243      8.034     -9.040      0.000     -88.403     -56.846\n",
      "longitude    -41.3002      4.415     -9.355      0.000     -49.971     -32.629\n",
      "==============================================================================\n",
      "Omnibus:                       23.671   Durbin-Watson:                   0.562\n",
      "Prob(Omnibus):                  0.000   Jarque-Bera (JB):               14.476\n",
      "Skew:                           0.239   Prob(JB):                     0.000719\n",
      "Kurtosis:                       2.393   Cond. No.                     3.65e+05\n",
      "==============================================================================\n",
      "\n",
      "Notes:\n",
      "[1] Standard Errors assume that the covariance matrix of the errors is correctly specified.\n",
      "[2] The condition number is large, 3.65e+05. This might indicate that there are\n",
      "strong multicollinearity or other numerical problems.\n"
     ]
    }
   ],
   "source": [
    "model = lin_reg.fit()\n",
    "print_model = model.summary()\n",
    "print(print_model)"
   ]
  },
  {
   "cell_type": "markdown",
   "metadata": {
    "tags": []
   },
   "source": [
    "After removing the P values one by one, it is observed that only the location (latitude and longitude) of the bike station has a significant relationship to the total_bikes possible at each station, which inituitively makes sense because locations with higher density of people should have more total bikes than locations with lower density, since places with more people will result in more potential bike users. However, even though all the high P values were removed and the P values for latitude and longitude are 0.000, the adjusted R-squared value is 0.174 which is very low, and it also decreased slightly each time a high P value was removed from the model. The coef values for latitude and longitude are also useless in this model because a positive or negative change in the value only represents a change in location, not a change to how small or large the value is, so even though the values are negative, it does not mean there is a negative correlation between these variables. Because of this, it can be concluded that although the relationship between total_bikes and location is significant, the model is not a good fit for the data, which could mean that the values in the dataset just naturally do not have a good linear relationship with eachother, or that there was not enough data in the dataset to produce a good linear relationship. Not having enough data is most likely the case since Portland is a relatively small city so the amount of bike stations and businesses will be relatively low, therefore resulting in less aviable data."
   ]
  },
  {
   "cell_type": "markdown",
   "metadata": {},
   "source": [
    "# Stretch"
   ]
  },
  {
   "cell_type": "markdown",
   "metadata": {},
   "source": [
    "How can you turn the regression model into a classification model?"
   ]
  },
  {
   "cell_type": "code",
   "execution_count": null,
   "metadata": {},
   "outputs": [],
   "source": []
  }
 ],
 "metadata": {
  "kernelspec": {
   "display_name": "Python 3 (ipykernel)",
   "language": "python",
   "name": "python3"
  },
  "language_info": {
   "codemirror_mode": {
    "name": "ipython",
    "version": 3
   },
   "file_extension": ".py",
   "mimetype": "text/x-python",
   "name": "python",
   "nbconvert_exporter": "python",
   "pygments_lexer": "ipython3",
   "version": "3.11.4"
  }
 },
 "nbformat": 4,
 "nbformat_minor": 4
}
