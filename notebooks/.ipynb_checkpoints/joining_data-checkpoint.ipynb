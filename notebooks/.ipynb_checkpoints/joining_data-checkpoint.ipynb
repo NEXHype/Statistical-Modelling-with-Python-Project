{
 "cells": [
  {
   "cell_type": "markdown",
   "metadata": {},
   "source": [
    "Join the data from Part 1 with the data from Part 2 to create a new dataframe."
   ]
  },
  {
   "cell_type": "code",
   "execution_count": 233,
   "metadata": {
    "tags": []
   },
   "outputs": [],
   "source": [
    "import pandas as pd\n",
    "import numpy as np\n",
    "import seaborn as sns                      \n",
    "import matplotlib.pyplot as plt             \n",
    "%matplotlib inline     \n",
    "sns.set(color_codes=True)"
   ]
  },
  {
   "cell_type": "code",
   "execution_count": 234,
   "metadata": {
    "tags": []
   },
   "outputs": [
    {
     "data": {
      "text/html": [
       "<div>\n",
       "<style scoped>\n",
       "    .dataframe tbody tr th:only-of-type {\n",
       "        vertical-align: middle;\n",
       "    }\n",
       "\n",
       "    .dataframe tbody tr th {\n",
       "        vertical-align: top;\n",
       "    }\n",
       "\n",
       "    .dataframe thead th {\n",
       "        text-align: right;\n",
       "    }\n",
       "</style>\n",
       "<table border=\"1\" class=\"dataframe\">\n",
       "  <thead>\n",
       "    <tr style=\"text-align: right;\">\n",
       "      <th></th>\n",
       "      <th>bike_station_location</th>\n",
       "      <th>name</th>\n",
       "      <th>main_category_x</th>\n",
       "      <th>address</th>\n",
       "      <th>price</th>\n",
       "      <th>rating</th>\n",
       "      <th>review_count</th>\n",
       "      <th>status</th>\n",
       "      <th>distance_away_x</th>\n",
       "      <th>main_category_y</th>\n",
       "      <th>distance_away_y</th>\n",
       "      <th>latitude</th>\n",
       "      <th>longitude</th>\n",
       "      <th>num_of_bikes</th>\n",
       "    </tr>\n",
       "  </thead>\n",
       "  <tbody>\n",
       "    <tr>\n",
       "      <th>0</th>\n",
       "      <td>45.51195046,-122.6141596</td>\n",
       "      <td>Apizza Scholls</td>\n",
       "      <td>Pizza</td>\n",
       "      <td>4741 SE Hawthorne Blvd</td>\n",
       "      <td>$$</td>\n",
       "      <td>4.0</td>\n",
       "      <td>1735</td>\n",
       "      <td>Open</td>\n",
       "      <td>82.518277</td>\n",
       "      <td>Pizzeria</td>\n",
       "      <td>82</td>\n",
       "      <td>45.511950</td>\n",
       "      <td>-122.614160</td>\n",
       "      <td>3</td>\n",
       "    </tr>\n",
       "    <tr>\n",
       "      <th>1</th>\n",
       "      <td>45.51195046,-122.6141596</td>\n",
       "      <td>Sapphire Hotel</td>\n",
       "      <td>Lounges</td>\n",
       "      <td>5008 SE Hawthorne Blvd</td>\n",
       "      <td>$$</td>\n",
       "      <td>4.5</td>\n",
       "      <td>487</td>\n",
       "      <td>Open</td>\n",
       "      <td>225.793673</td>\n",
       "      <td>Cocktail Bar</td>\n",
       "      <td>216</td>\n",
       "      <td>45.511950</td>\n",
       "      <td>-122.614160</td>\n",
       "      <td>3</td>\n",
       "    </tr>\n",
       "    <tr>\n",
       "      <th>2</th>\n",
       "      <td>45.51195046,-122.6141596</td>\n",
       "      <td>East Side Delicatessen</td>\n",
       "      <td>Delis</td>\n",
       "      <td>4626 SE Hawthorne Blvd</td>\n",
       "      <td>$</td>\n",
       "      <td>4.0</td>\n",
       "      <td>408</td>\n",
       "      <td>Open</td>\n",
       "      <td>33.461068</td>\n",
       "      <td>Deli</td>\n",
       "      <td>28</td>\n",
       "      <td>45.511950</td>\n",
       "      <td>-122.614160</td>\n",
       "      <td>3</td>\n",
       "    </tr>\n",
       "    <tr>\n",
       "      <th>3</th>\n",
       "      <td>45.51195046,-122.6141596</td>\n",
       "      <td>Zach's Shack</td>\n",
       "      <td>Fast Food</td>\n",
       "      <td>4611 SE Hawthorne Blvd</td>\n",
       "      <td>$</td>\n",
       "      <td>3.5</td>\n",
       "      <td>270</td>\n",
       "      <td>Open</td>\n",
       "      <td>58.987619</td>\n",
       "      <td>Hot Dog Joint</td>\n",
       "      <td>55</td>\n",
       "      <td>45.511950</td>\n",
       "      <td>-122.614160</td>\n",
       "      <td>3</td>\n",
       "    </tr>\n",
       "    <tr>\n",
       "      <th>4</th>\n",
       "      <td>45.54827571,-122.6111636</td>\n",
       "      <td>Noho's Hawaiian Cafe</td>\n",
       "      <td>Hawaiian</td>\n",
       "      <td>4627 NE Fremont St</td>\n",
       "      <td>$$</td>\n",
       "      <td>4.0</td>\n",
       "      <td>374</td>\n",
       "      <td>Open</td>\n",
       "      <td>340.597357</td>\n",
       "      <td>Café</td>\n",
       "      <td>342</td>\n",
       "      <td>45.548276</td>\n",
       "      <td>-122.611164</td>\n",
       "      <td>6</td>\n",
       "    </tr>\n",
       "    <tr>\n",
       "      <th>...</th>\n",
       "      <td>...</td>\n",
       "      <td>...</td>\n",
       "      <td>...</td>\n",
       "      <td>...</td>\n",
       "      <td>...</td>\n",
       "      <td>...</td>\n",
       "      <td>...</td>\n",
       "      <td>...</td>\n",
       "      <td>...</td>\n",
       "      <td>...</td>\n",
       "      <td>...</td>\n",
       "      <td>...</td>\n",
       "      <td>...</td>\n",
       "      <td>...</td>\n",
       "    </tr>\n",
       "    <tr>\n",
       "      <th>577</th>\n",
       "      <td>45.5965621,-122.7478995</td>\n",
       "      <td>Homegrown Smoker</td>\n",
       "      <td>Vegan</td>\n",
       "      <td>8638 N Lombard St</td>\n",
       "      <td>$$</td>\n",
       "      <td>4.5</td>\n",
       "      <td>703</td>\n",
       "      <td>Open</td>\n",
       "      <td>896.491052</td>\n",
       "      <td>BBQ Joint</td>\n",
       "      <td>894</td>\n",
       "      <td>45.596562</td>\n",
       "      <td>-122.747900</td>\n",
       "      <td>9</td>\n",
       "    </tr>\n",
       "    <tr>\n",
       "      <th>578</th>\n",
       "      <td>45.5965621,-122.7478995</td>\n",
       "      <td>Leisure Public House</td>\n",
       "      <td>Pubs</td>\n",
       "      <td>8002 N Lombard St</td>\n",
       "      <td>$</td>\n",
       "      <td>4.5</td>\n",
       "      <td>235</td>\n",
       "      <td>Open</td>\n",
       "      <td>829.466752</td>\n",
       "      <td>Bar</td>\n",
       "      <td>824</td>\n",
       "      <td>45.596562</td>\n",
       "      <td>-122.747900</td>\n",
       "      <td>9</td>\n",
       "    </tr>\n",
       "    <tr>\n",
       "      <th>579</th>\n",
       "      <td>45.5965621,-122.7478995</td>\n",
       "      <td>Thai Cottage</td>\n",
       "      <td>Thai</td>\n",
       "      <td>8620 N Lombard St</td>\n",
       "      <td>$$</td>\n",
       "      <td>3.5</td>\n",
       "      <td>256</td>\n",
       "      <td>Open</td>\n",
       "      <td>905.682509</td>\n",
       "      <td>Thai Restaurant</td>\n",
       "      <td>900</td>\n",
       "      <td>45.596562</td>\n",
       "      <td>-122.747900</td>\n",
       "      <td>9</td>\n",
       "    </tr>\n",
       "    <tr>\n",
       "      <th>580</th>\n",
       "      <td>45.5178988,-122.6600522</td>\n",
       "      <td>Hat Yai</td>\n",
       "      <td>Thai</td>\n",
       "      <td>605 SE Belmont St</td>\n",
       "      <td>$$</td>\n",
       "      <td>4.0</td>\n",
       "      <td>238</td>\n",
       "      <td>Open</td>\n",
       "      <td>141.103916</td>\n",
       "      <td>Thai Restaurant</td>\n",
       "      <td>146</td>\n",
       "      <td>45.517899</td>\n",
       "      <td>-122.660052</td>\n",
       "      <td>10</td>\n",
       "    </tr>\n",
       "    <tr>\n",
       "      <th>581</th>\n",
       "      <td>45.5178988,-122.6600522</td>\n",
       "      <td>Rum Club</td>\n",
       "      <td>American (New)</td>\n",
       "      <td>720 SE Sandy Blvd</td>\n",
       "      <td>$$</td>\n",
       "      <td>4.0</td>\n",
       "      <td>286</td>\n",
       "      <td>Open</td>\n",
       "      <td>202.268601</td>\n",
       "      <td>Cocktail Bar</td>\n",
       "      <td>211</td>\n",
       "      <td>45.517899</td>\n",
       "      <td>-122.660052</td>\n",
       "      <td>10</td>\n",
       "    </tr>\n",
       "  </tbody>\n",
       "</table>\n",
       "<p>582 rows × 14 columns</p>\n",
       "</div>"
      ],
      "text/plain": [
       "        bike_station_location                    name main_category_x  \\\n",
       "0    45.51195046,-122.6141596          Apizza Scholls           Pizza   \n",
       "1    45.51195046,-122.6141596          Sapphire Hotel         Lounges   \n",
       "2    45.51195046,-122.6141596  East Side Delicatessen           Delis   \n",
       "3    45.51195046,-122.6141596            Zach's Shack       Fast Food   \n",
       "4    45.54827571,-122.6111636    Noho's Hawaiian Cafe        Hawaiian   \n",
       "..                        ...                     ...             ...   \n",
       "577   45.5965621,-122.7478995        Homegrown Smoker           Vegan   \n",
       "578   45.5965621,-122.7478995    Leisure Public House            Pubs   \n",
       "579   45.5965621,-122.7478995            Thai Cottage            Thai   \n",
       "580   45.5178988,-122.6600522                 Hat Yai            Thai   \n",
       "581   45.5178988,-122.6600522                Rum Club  American (New)   \n",
       "\n",
       "                    address price  rating  review_count status  \\\n",
       "0    4741 SE Hawthorne Blvd    $$     4.0          1735   Open   \n",
       "1    5008 SE Hawthorne Blvd    $$     4.5           487   Open   \n",
       "2    4626 SE Hawthorne Blvd     $     4.0           408   Open   \n",
       "3    4611 SE Hawthorne Blvd     $     3.5           270   Open   \n",
       "4        4627 NE Fremont St    $$     4.0           374   Open   \n",
       "..                      ...   ...     ...           ...    ...   \n",
       "577       8638 N Lombard St    $$     4.5           703   Open   \n",
       "578       8002 N Lombard St     $     4.5           235   Open   \n",
       "579       8620 N Lombard St    $$     3.5           256   Open   \n",
       "580       605 SE Belmont St    $$     4.0           238   Open   \n",
       "581       720 SE Sandy Blvd    $$     4.0           286   Open   \n",
       "\n",
       "     distance_away_x  main_category_y  distance_away_y   latitude   longitude  \\\n",
       "0          82.518277         Pizzeria               82  45.511950 -122.614160   \n",
       "1         225.793673     Cocktail Bar              216  45.511950 -122.614160   \n",
       "2          33.461068             Deli               28  45.511950 -122.614160   \n",
       "3          58.987619    Hot Dog Joint               55  45.511950 -122.614160   \n",
       "4         340.597357             Café              342  45.548276 -122.611164   \n",
       "..               ...              ...              ...        ...         ...   \n",
       "577       896.491052        BBQ Joint              894  45.596562 -122.747900   \n",
       "578       829.466752              Bar              824  45.596562 -122.747900   \n",
       "579       905.682509  Thai Restaurant              900  45.596562 -122.747900   \n",
       "580       141.103916  Thai Restaurant              146  45.517899 -122.660052   \n",
       "581       202.268601     Cocktail Bar              211  45.517899 -122.660052   \n",
       "\n",
       "     num_of_bikes  \n",
       "0               3  \n",
       "1               3  \n",
       "2               3  \n",
       "3               3  \n",
       "4               6  \n",
       "..            ...  \n",
       "577             9  \n",
       "578             9  \n",
       "579             9  \n",
       "580            10  \n",
       "581            10  \n",
       "\n",
       "[582 rows x 14 columns]"
      ]
     },
     "execution_count": 234,
     "metadata": {},
     "output_type": "execute_result"
    }
   ],
   "source": [
    "df_city_bikes = pd.read_csv('city_bikes_portland.csv')\n",
    "df_foursquare = pd.read_csv('foursquare.csv')\n",
    "df_yelp = pd.read_csv('yelp.csv')\n",
    "#joining on a composite key of columns 'bike_station_location','name','address' inorder to get a unique key to join on\n",
    "df_first_join = pd.merge(df_yelp, df_foursquare, on=['bike_station_location','name','address'], how='inner')\n",
    "df_final_join = pd.merge(df_first_join, df_city_bikes, on='bike_station_location', how='left')\n",
    "df_final_join"
   ]
  },
  {
   "cell_type": "code",
   "execution_count": 235,
   "metadata": {
    "tags": []
   },
   "outputs": [
    {
     "data": {
      "text/plain": [
       "bike_station_location     0\n",
       "name                      0\n",
       "main_category_x           0\n",
       "address                   0\n",
       "price                    20\n",
       "rating                    0\n",
       "review_count              0\n",
       "status                    0\n",
       "distance_away_x           0\n",
       "main_category_y           0\n",
       "distance_away_y           0\n",
       "latitude                  0\n",
       "longitude                 0\n",
       "num_of_bikes              0\n",
       "dtype: int64"
      ]
     },
     "execution_count": 235,
     "metadata": {},
     "output_type": "execute_result"
    }
   ],
   "source": [
    "#cleaned the resulting joined dataframe by dropping irrelevant columns (kept main_category_y since it can offer more specific category combinations,\n",
    "#and latitude and longitude was kept in since it could be useful in future analysis), checking/dropping NaN values (in this case the rows with\n",
    "#NaN values were kept since other data in the row could impact the statistical model), checking/dropping duplicate rows, and checking for any outlier\n",
    "#values (in this case only the distance away values that are outside of the 1000m radius would be considered outliers since we do not want data outside\n",
    "#of that radius in our statistical model)\n",
    "df_final_join.isnull().sum()"
   ]
  },
  {
   "cell_type": "code",
   "execution_count": 236,
   "metadata": {
    "tags": []
   },
   "outputs": [
    {
     "data": {
      "text/plain": [
       "0"
      ]
     },
     "execution_count": 236,
     "metadata": {},
     "output_type": "execute_result"
    }
   ],
   "source": [
    "#this results shows that there at 0 duplicated rows, so nothing was dropped\n",
    "df_final_join.duplicated().sum()"
   ]
  },
  {
   "cell_type": "code",
   "execution_count": 237,
   "metadata": {
    "tags": []
   },
   "outputs": [
    {
     "name": "stdout",
     "output_type": "stream",
     "text": [
      "(array([], dtype=int64),)\n"
     ]
    },
    {
     "data": {
      "image/png": "[encoded data removed]",
      "text/plain": [
       "<Figure size 640x480 with 1 Axes>"
      ]
     },
     "metadata": {},
     "output_type": "display_data"
    }
   ],
   "source": [
    "#checking to see if there are any outliers in the distance col, since these are the only outliers\n",
    "#that would be good to remove from the dataset since we only want data within 1000m\n",
    "sns.boxplot(x=df_final_cleaned['distance_away_x'])\n",
    "print(np.where((df_final_cleaned['distance_away_x']>1000) & (df_final_cleaned['distance_away_x']<0)))\n",
    "#this shows that there are no distance values > 1000m"
   ]
  },
  {
   "cell_type": "code",
   "execution_count": 238,
   "metadata": {
    "tags": []
   },
   "outputs": [
    {
     "data": {
      "text/html": [
       "<div>\n",
       "<style scoped>\n",
       "    .dataframe tbody tr th:only-of-type {\n",
       "        vertical-align: middle;\n",
       "    }\n",
       "\n",
       "    .dataframe tbody tr th {\n",
       "        vertical-align: top;\n",
       "    }\n",
       "\n",
       "    .dataframe thead th {\n",
       "        text-align: right;\n",
       "    }\n",
       "</style>\n",
       "<table border=\"1\" class=\"dataframe\">\n",
       "  <thead>\n",
       "    <tr style=\"text-align: right;\">\n",
       "      <th></th>\n",
       "      <th>bike_station_location</th>\n",
       "      <th>name</th>\n",
       "      <th>main_category_x</th>\n",
       "      <th>address</th>\n",
       "      <th>price</th>\n",
       "      <th>rating</th>\n",
       "      <th>review_count</th>\n",
       "      <th>status</th>\n",
       "      <th>distance_away_x</th>\n",
       "      <th>main_category_y</th>\n",
       "      <th>latitude</th>\n",
       "      <th>longitude</th>\n",
       "      <th>num_of_bikes</th>\n",
       "    </tr>\n",
       "  </thead>\n",
       "  <tbody>\n",
       "    <tr>\n",
       "      <th>0</th>\n",
       "      <td>45.51195046,-122.6141596</td>\n",
       "      <td>Apizza Scholls</td>\n",
       "      <td>Pizza</td>\n",
       "      <td>4741 SE Hawthorne Blvd</td>\n",
       "      <td>$$</td>\n",
       "      <td>4.0</td>\n",
       "      <td>1735</td>\n",
       "      <td>Open</td>\n",
       "      <td>82.518277</td>\n",
       "      <td>Pizzeria</td>\n",
       "      <td>45.511950</td>\n",
       "      <td>-122.614160</td>\n",
       "      <td>3</td>\n",
       "    </tr>\n",
       "    <tr>\n",
       "      <th>1</th>\n",
       "      <td>45.51195046,-122.6141596</td>\n",
       "      <td>Sapphire Hotel</td>\n",
       "      <td>Lounges</td>\n",
       "      <td>5008 SE Hawthorne Blvd</td>\n",
       "      <td>$$</td>\n",
       "      <td>4.5</td>\n",
       "      <td>487</td>\n",
       "      <td>Open</td>\n",
       "      <td>225.793673</td>\n",
       "      <td>Cocktail Bar</td>\n",
       "      <td>45.511950</td>\n",
       "      <td>-122.614160</td>\n",
       "      <td>3</td>\n",
       "    </tr>\n",
       "    <tr>\n",
       "      <th>2</th>\n",
       "      <td>45.51195046,-122.6141596</td>\n",
       "      <td>East Side Delicatessen</td>\n",
       "      <td>Delis</td>\n",
       "      <td>4626 SE Hawthorne Blvd</td>\n",
       "      <td>$</td>\n",
       "      <td>4.0</td>\n",
       "      <td>408</td>\n",
       "      <td>Open</td>\n",
       "      <td>33.461068</td>\n",
       "      <td>Deli</td>\n",
       "      <td>45.511950</td>\n",
       "      <td>-122.614160</td>\n",
       "      <td>3</td>\n",
       "    </tr>\n",
       "    <tr>\n",
       "      <th>3</th>\n",
       "      <td>45.51195046,-122.6141596</td>\n",
       "      <td>Zach's Shack</td>\n",
       "      <td>Fast Food</td>\n",
       "      <td>4611 SE Hawthorne Blvd</td>\n",
       "      <td>$</td>\n",
       "      <td>3.5</td>\n",
       "      <td>270</td>\n",
       "      <td>Open</td>\n",
       "      <td>58.987619</td>\n",
       "      <td>Hot Dog Joint</td>\n",
       "      <td>45.511950</td>\n",
       "      <td>-122.614160</td>\n",
       "      <td>3</td>\n",
       "    </tr>\n",
       "    <tr>\n",
       "      <th>4</th>\n",
       "      <td>45.54827571,-122.6111636</td>\n",
       "      <td>Noho's Hawaiian Cafe</td>\n",
       "      <td>Hawaiian</td>\n",
       "      <td>4627 NE Fremont St</td>\n",
       "      <td>$$</td>\n",
       "      <td>4.0</td>\n",
       "      <td>374</td>\n",
       "      <td>Open</td>\n",
       "      <td>340.597357</td>\n",
       "      <td>Café</td>\n",
       "      <td>45.548276</td>\n",
       "      <td>-122.611164</td>\n",
       "      <td>6</td>\n",
       "    </tr>\n",
       "    <tr>\n",
       "      <th>...</th>\n",
       "      <td>...</td>\n",
       "      <td>...</td>\n",
       "      <td>...</td>\n",
       "      <td>...</td>\n",
       "      <td>...</td>\n",
       "      <td>...</td>\n",
       "      <td>...</td>\n",
       "      <td>...</td>\n",
       "      <td>...</td>\n",
       "      <td>...</td>\n",
       "      <td>...</td>\n",
       "      <td>...</td>\n",
       "      <td>...</td>\n",
       "    </tr>\n",
       "    <tr>\n",
       "      <th>577</th>\n",
       "      <td>45.5965621,-122.7478995</td>\n",
       "      <td>Homegrown Smoker</td>\n",
       "      <td>Vegan</td>\n",
       "      <td>8638 N Lombard St</td>\n",
       "      <td>$$</td>\n",
       "      <td>4.5</td>\n",
       "      <td>703</td>\n",
       "      <td>Open</td>\n",
       "      <td>896.491052</td>\n",
       "      <td>BBQ Joint</td>\n",
       "      <td>45.596562</td>\n",
       "      <td>-122.747900</td>\n",
       "      <td>9</td>\n",
       "    </tr>\n",
       "    <tr>\n",
       "      <th>578</th>\n",
       "      <td>45.5965621,-122.7478995</td>\n",
       "      <td>Leisure Public House</td>\n",
       "      <td>Pubs</td>\n",
       "      <td>8002 N Lombard St</td>\n",
       "      <td>$</td>\n",
       "      <td>4.5</td>\n",
       "      <td>235</td>\n",
       "      <td>Open</td>\n",
       "      <td>829.466752</td>\n",
       "      <td>Bar</td>\n",
       "      <td>45.596562</td>\n",
       "      <td>-122.747900</td>\n",
       "      <td>9</td>\n",
       "    </tr>\n",
       "    <tr>\n",
       "      <th>579</th>\n",
       "      <td>45.5965621,-122.7478995</td>\n",
       "      <td>Thai Cottage</td>\n",
       "      <td>Thai</td>\n",
       "      <td>8620 N Lombard St</td>\n",
       "      <td>$$</td>\n",
       "      <td>3.5</td>\n",
       "      <td>256</td>\n",
       "      <td>Open</td>\n",
       "      <td>905.682509</td>\n",
       "      <td>Thai Restaurant</td>\n",
       "      <td>45.596562</td>\n",
       "      <td>-122.747900</td>\n",
       "      <td>9</td>\n",
       "    </tr>\n",
       "    <tr>\n",
       "      <th>580</th>\n",
       "      <td>45.5178988,-122.6600522</td>\n",
       "      <td>Hat Yai</td>\n",
       "      <td>Thai</td>\n",
       "      <td>605 SE Belmont St</td>\n",
       "      <td>$$</td>\n",
       "      <td>4.0</td>\n",
       "      <td>238</td>\n",
       "      <td>Open</td>\n",
       "      <td>141.103916</td>\n",
       "      <td>Thai Restaurant</td>\n",
       "      <td>45.517899</td>\n",
       "      <td>-122.660052</td>\n",
       "      <td>10</td>\n",
       "    </tr>\n",
       "    <tr>\n",
       "      <th>581</th>\n",
       "      <td>45.5178988,-122.6600522</td>\n",
       "      <td>Rum Club</td>\n",
       "      <td>American (New)</td>\n",
       "      <td>720 SE Sandy Blvd</td>\n",
       "      <td>$$</td>\n",
       "      <td>4.0</td>\n",
       "      <td>286</td>\n",
       "      <td>Open</td>\n",
       "      <td>202.268601</td>\n",
       "      <td>Cocktail Bar</td>\n",
       "      <td>45.517899</td>\n",
       "      <td>-122.660052</td>\n",
       "      <td>10</td>\n",
       "    </tr>\n",
       "  </tbody>\n",
       "</table>\n",
       "<p>582 rows × 13 columns</p>\n",
       "</div>"
      ],
      "text/plain": [
       "        bike_station_location                    name main_category_x  \\\n",
       "0    45.51195046,-122.6141596          Apizza Scholls           Pizza   \n",
       "1    45.51195046,-122.6141596          Sapphire Hotel         Lounges   \n",
       "2    45.51195046,-122.6141596  East Side Delicatessen           Delis   \n",
       "3    45.51195046,-122.6141596            Zach's Shack       Fast Food   \n",
       "4    45.54827571,-122.6111636    Noho's Hawaiian Cafe        Hawaiian   \n",
       "..                        ...                     ...             ...   \n",
       "577   45.5965621,-122.7478995        Homegrown Smoker           Vegan   \n",
       "578   45.5965621,-122.7478995    Leisure Public House            Pubs   \n",
       "579   45.5965621,-122.7478995            Thai Cottage            Thai   \n",
       "580   45.5178988,-122.6600522                 Hat Yai            Thai   \n",
       "581   45.5178988,-122.6600522                Rum Club  American (New)   \n",
       "\n",
       "                    address price  rating  review_count status  \\\n",
       "0    4741 SE Hawthorne Blvd    $$     4.0          1735   Open   \n",
       "1    5008 SE Hawthorne Blvd    $$     4.5           487   Open   \n",
       "2    4626 SE Hawthorne Blvd     $     4.0           408   Open   \n",
       "3    4611 SE Hawthorne Blvd     $     3.5           270   Open   \n",
       "4        4627 NE Fremont St    $$     4.0           374   Open   \n",
       "..                      ...   ...     ...           ...    ...   \n",
       "577       8638 N Lombard St    $$     4.5           703   Open   \n",
       "578       8002 N Lombard St     $     4.5           235   Open   \n",
       "579       8620 N Lombard St    $$     3.5           256   Open   \n",
       "580       605 SE Belmont St    $$     4.0           238   Open   \n",
       "581       720 SE Sandy Blvd    $$     4.0           286   Open   \n",
       "\n",
       "     distance_away_x  main_category_y   latitude   longitude  num_of_bikes  \n",
       "0          82.518277         Pizzeria  45.511950 -122.614160             3  \n",
       "1         225.793673     Cocktail Bar  45.511950 -122.614160             3  \n",
       "2          33.461068             Deli  45.511950 -122.614160             3  \n",
       "3          58.987619    Hot Dog Joint  45.511950 -122.614160             3  \n",
       "4         340.597357             Café  45.548276 -122.611164             6  \n",
       "..               ...              ...        ...         ...           ...  \n",
       "577       896.491052        BBQ Joint  45.596562 -122.747900             9  \n",
       "578       829.466752              Bar  45.596562 -122.747900             9  \n",
       "579       905.682509  Thai Restaurant  45.596562 -122.747900             9  \n",
       "580       141.103916  Thai Restaurant  45.517899 -122.660052            10  \n",
       "581       202.268601     Cocktail Bar  45.517899 -122.660052            10  \n",
       "\n",
       "[582 rows x 13 columns]"
      ]
     },
     "execution_count": 238,
     "metadata": {},
     "output_type": "execute_result"
    }
   ],
   "source": [
    "df_final_cleaned = df_final_join.drop(['distance_away_y'], axis=1)\n",
    "df_final_cleaned"
   ]
  },
  {
   "cell_type": "code",
   "execution_count": null,
   "metadata": {
    "tags": []
   },
   "outputs": [],
   "source": [
    "#exporting to csv file for future use\n",
    "df_final_cleaned.to_csv('joined_data.csv', index=False)"
   ]
  },
  {
   "cell_type": "markdown",
   "metadata": {},
   "source": [
    "Provide a visualization that you used as part of your EDA process. Explain the initial pattern or relationship you discoved through this visualization. "
   ]
  },
  {
   "cell_type": "code",
   "execution_count": 239,
   "metadata": {
    "tags": []
   },
   "outputs": [
    {
     "data": {
      "text/plain": [
       "<Axes: xlabel='distance_away_x'>"
      ]
     },
     "execution_count": 239,
     "metadata": {},
     "output_type": "execute_result"
    },
    {
     "data": {
      "image/png": "[encoded data removed]",
      "text/plain": [
       "<Figure size 640x480 with 1 Axes>"
      ]
     },
     "metadata": {},
     "output_type": "display_data"
    }
   ],
   "source": [
    "#from this boxplot we can see that there are a few distances that are considered outliers based on our dataset distribution,\n",
    "#but none of them are over 1000m, so they were kept in since the dataset is suppose to include everything up to 1000m\n",
    "sns.boxplot(x=df_final_cleaned['distance_away_x'])"
   ]
  },
  {
   "cell_type": "code",
   "execution_count": 240,
   "metadata": {
    "tags": []
   },
   "outputs": [
    {
     "data": {
      "image/png": "[encoded data removed]",
      "text/plain": [
       "<Figure size 1000x600 with 1 Axes>"
      ]
     },
     "metadata": {},
     "output_type": "display_data"
    }
   ],
   "source": [
    "#from this scatter plot of distance away vs review count, the initial pattern discovered with this visualization is that\n",
    "#there are more higher number review counts for places that are closer to a bikestation, which is expected.\n",
    "fig, ax = plt.subplots(figsize=(10,6))\n",
    "ax.scatter(df_final_cleaned['distance_away_x'], df_final_cleaned['review_count'])\n",
    "ax.set_xlabel('distance_away')\n",
    "ax.set_ylabel('review_count')\n",
    "plt.show()"
   ]
  },
  {
   "cell_type": "code",
   "execution_count": 241,
   "metadata": {
    "tags": []
   },
   "outputs": [
    {
     "data": {
      "image/png": "[encoded data removed]",
      "text/plain": [
       "<Figure size 1000x600 with 1 Axes>"
      ]
     },
     "metadata": {},
     "output_type": "display_data"
    }
   ],
   "source": [
    "#from this scatter plot of total possible bikes vs review count, the initial pattern discovered with this visualization is that\n",
    "#there does not seem to be a pattern or relationship between the total possible bikes at a station and the number of reviews a business \n",
    "#within a 1000m radius of the bike station gets.\n",
    "fig, ax = plt.subplots(figsize=(10,6))\n",
    "ax.scatter(df_final_cleaned['num_of_bikes'], df_final_cleaned['review_count'])\n",
    "ax.set_xlabel('num_of_bikes')\n",
    "ax.set_ylabel('review_count')\n",
    "plt.show()"
   ]
  },
  {
   "cell_type": "markdown",
   "metadata": {},
   "source": [
    "# Database"
   ]
  },
  {
   "cell_type": "markdown",
   "metadata": {},
   "source": [
    "Put all your results in an SQLite3 database (remember, SQLite stores its databases as files in your local machine - make sure to create your database in your project's data/ directory!)"
   ]
  },
  {
   "cell_type": "code",
   "execution_count": 242,
   "metadata": {
    "tags": []
   },
   "outputs": [],
   "source": [
    "import sqlite3\n",
    "from sqlite3 import Error\n",
    "\n",
    "def create_connection(path):\n",
    "    connection = None\n",
    "    try:\n",
    "        connection = sqlite3.connect(path)\n",
    "        print(\"Connection to SQLite DB successful\")\n",
    "    except Error as e:\n",
    "        print(f\"The error '{e}' occurred\")\n",
    "\n",
    "    return connection"
   ]
  },
  {
   "cell_type": "code",
   "execution_count": 243,
   "metadata": {
    "tags": []
   },
   "outputs": [
    {
     "name": "stdout",
     "output_type": "stream",
     "text": [
      "Connection to SQLite DB successful\n"
     ]
    }
   ],
   "source": [
    "connection = create_connection(\"../data/city_bike_POI.sqlite\")"
   ]
  },
  {
   "cell_type": "code",
   "execution_count": null,
   "metadata": {
    "tags": []
   },
   "outputs": [],
   "source": [
    "create_city_bikes_portland_table = \"\"\"\n",
    "CREATE TABLE IF NOT EXISTS city_bikes_portland (\n",
    "  bike_station_location TEXT,\n",
    "  latitude FLOAT,\n",
    "  longitude FLOAT,\n",
    "  num_of_bikes INTEGER\n",
    ");\n",
    "\"\"\""
   ]
  },
  {
   "cell_type": "code",
   "execution_count": 244,
   "metadata": {
    "tags": []
   },
   "outputs": [],
   "source": [
    "conn = sqlite3.connect(\"../data/city_bike_POI.sqlite\")\n",
    "c = conn.cursor()"
   ]
  },
  {
   "cell_type": "code",
   "execution_count": null,
   "metadata": {
    "tags": []
   },
   "outputs": [],
   "source": [
    "c.execute(create_city_bikes_portland_table)"
   ]
  },
  {
   "cell_type": "code",
   "execution_count": 248,
   "metadata": {
    "tags": []
   },
   "outputs": [
    {
     "data": {
      "text/plain": [
       "236"
      ]
     },
     "execution_count": 248,
     "metadata": {},
     "output_type": "execute_result"
    }
   ],
   "source": [
    "df_city_bikes.to_sql('city_bikes_portland', conn, if_exists='replace', index=False)"
   ]
  },
  {
   "cell_type": "code",
   "execution_count": null,
   "metadata": {
    "tags": []
   },
   "outputs": [],
   "source": [
    "create_foursquare_table = \"\"\"\n",
    "CREATE TABLE IF NOT EXISTS foursquare (\n",
    "  bike_station_location TEXT,\n",
    "  name TEXT,\n",
    "  main_category TEXT,\n",
    "  address TEXT,\n",
    "  distance_away INTEGER\n",
    ");\n",
    "\"\"\"\n",
    "\n"
   ]
  },
  {
   "cell_type": "code",
   "execution_count": null,
   "metadata": {
    "tags": []
   },
   "outputs": [],
   "source": [
    "c.execute(create_foursquare_table)"
   ]
  },
  {
   "cell_type": "code",
   "execution_count": 249,
   "metadata": {
    "tags": []
   },
   "outputs": [
    {
     "data": {
      "text/plain": [
       "2353"
      ]
     },
     "execution_count": 249,
     "metadata": {},
     "output_type": "execute_result"
    }
   ],
   "source": [
    "df_foursquare.to_sql('foursquare', conn, if_exists='replace', index=False)"
   ]
  },
  {
   "cell_type": "code",
   "execution_count": null,
   "metadata": {
    "tags": []
   },
   "outputs": [],
   "source": [
    "#c.execute(\"\"\"SELECT * FROM foursquare\"\"\")\n",
    "#c.fetchall()\n",
    "create_yelp_table = \"\"\"\n",
    "CREATE TABLE IF NOT EXISTS yelp (\n",
    "  bike_station_location TEXT,\n",
    "  name TEXT,\n",
    "  main_category TEXT,\n",
    "  address TEXT,\n",
    "  price TEXT,\n",
    "  rating FLOAT,\n",
    "  review_count INTEGER,\n",
    "  status TEXT,\n",
    "  distance_away FLOAT\n",
    ");\n",
    "\"\"\""
   ]
  },
  {
   "cell_type": "code",
   "execution_count": null,
   "metadata": {
    "tags": []
   },
   "outputs": [],
   "source": [
    "c.execute(create_yelp_table)"
   ]
  },
  {
   "cell_type": "code",
   "execution_count": 250,
   "metadata": {
    "tags": []
   },
   "outputs": [
    {
     "data": {
      "text/plain": [
       "4715"
      ]
     },
     "execution_count": 250,
     "metadata": {},
     "output_type": "execute_result"
    }
   ],
   "source": [
    "df_yelp.to_sql('yelp', conn, if_exists='replace', index=False)"
   ]
  },
  {
   "cell_type": "code",
   "execution_count": null,
   "metadata": {
    "tags": []
   },
   "outputs": [],
   "source": [
    "create_joined_table = \"\"\"\n",
    "CREATE TABLE IF NOT EXISTS joined (\n",
    "  bike_station_location TEXT,\n",
    "  name TEXT,\n",
    "  main_category_x TEXT,\n",
    "  address TEXT,\n",
    "  price TEXT,\n",
    "  rating FLOAT,\n",
    "  review_count INTEGER,\n",
    "  status TEXT,\n",
    "  distance_away_x FLOAT,\n",
    "  main_category_y TEXT,\n",
    "  latitude FLOAT,\n",
    "  longitude FLOAT,\n",
    "  num_of_bikes INTEGER\n",
    ");\n",
    "\"\"\""
   ]
  },
  {
   "cell_type": "code",
   "execution_count": null,
   "metadata": {
    "tags": []
   },
   "outputs": [],
   "source": [
    "c.execute(create_joined_table)"
   ]
  },
  {
   "cell_type": "code",
   "execution_count": 251,
   "metadata": {
    "tags": []
   },
   "outputs": [
    {
     "data": {
      "text/plain": [
       "582"
      ]
     },
     "execution_count": 251,
     "metadata": {},
     "output_type": "execute_result"
    }
   ],
   "source": [
    "df_final_cleaned.to_sql('joined', conn, if_exists='replace', index=False)"
   ]
  },
  {
   "cell_type": "code",
   "execution_count": null,
   "metadata": {
    "tags": []
   },
   "outputs": [],
   "source": [
    "#checking to see if data was inserted correctly\n",
    "c.execute(\"\"\"SELECT * FROM joined\"\"\")\n",
    "c.fetchall()"
   ]
  },
  {
   "cell_type": "markdown",
   "metadata": {},
   "source": [
    "Look at the data before and after the join to validate your data."
   ]
  },
  {
   "cell_type": "code",
   "execution_count": 245,
   "metadata": {
    "tags": []
   },
   "outputs": [
    {
     "name": "stdout",
     "output_type": "stream",
     "text": [
      "True False True True\n"
     ]
    }
   ],
   "source": [
    "#checking to see if NaN values exist in the data before and after joining\n",
    "print(df_final_cleaned.isnull().values.any(), df_city_bikes.isnull().values.any(), df_foursquare.isnull().values.any(),\n",
    "      df_yelp.isnull().values.any())\n",
    "#we can see that NaN values existed in 2 of the 3 dataframes that were joined and the joined data framed also has NaN values,\n",
    "#which validates our join. Rows with NaN values were kept in since other data in those rows can have an impact on the statistical model"
   ]
  },
  {
   "cell_type": "code",
   "execution_count": 246,
   "metadata": {
    "tags": []
   },
   "outputs": [
    {
     "data": {
      "text/plain": [
       "False"
      ]
     },
     "execution_count": 246,
     "metadata": {},
     "output_type": "execute_result"
    }
   ],
   "source": [
    "#checking to see if there are any duplicate rows in our resulting joined data\n",
    "df_final_cleaned.duplicated().values.any()\n",
    "#we can see that there are no duplicated rows in the final joined data, which valids the composite key that the tables were joined on"
   ]
  },
  {
   "cell_type": "code",
   "execution_count": 247,
   "metadata": {
    "tags": []
   },
   "outputs": [
    {
     "name": "stdout",
     "output_type": "stream",
     "text": [
      "(2353, 5) (4715, 9) (582, 13)\n"
     ]
    }
   ],
   "source": [
    "#checking to see if the number of rows in the data after joining is less than the rows from the 2 tables joined with \n",
    "#the composite key\n",
    "print(df_foursquare.shape, df_yelp.shape, df_final_cleaned.shape)\n",
    "#We can see that the joined dataframe has much less rows, which makes sense and validates that our composite key \n",
    "#was infact a good unique key"
   ]
  },
  {
   "cell_type": "code",
   "execution_count": null,
   "metadata": {},
   "outputs": [],
   "source": []
  }
 ],
 "metadata": {
  "kernelspec": {
   "display_name": "Python 3 (ipykernel)",
   "language": "python",
   "name": "python3"
  },
  "language_info": {
   "codemirror_mode": {
    "name": "ipython",
    "version": 3
   },
   "file_extension": ".py",
   "mimetype": "text/x-python",
   "name": "python",
   "nbconvert_exporter": "python",
   "pygments_lexer": "ipython3",
   "version": "3.11.4"
  }
 },
 "nbformat": 4,
 "nbformat_minor": 4
}
