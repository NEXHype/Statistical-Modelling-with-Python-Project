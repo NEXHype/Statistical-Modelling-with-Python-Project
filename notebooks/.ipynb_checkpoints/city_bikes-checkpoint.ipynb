{
 "cells": [
  {
   "cell_type": "markdown",
   "metadata": {},
   "source": [
    "# CityBikes"
   ]
  },
  {
   "cell_type": "markdown",
   "metadata": {},
   "source": [
    "Send a request to CityBikes for the city of your choice. "
   ]
  },
  {
   "cell_type": "code",
   "execution_count": null,
   "metadata": {
    "tags": []
   },
   "outputs": [],
   "source": [
    "import requests \n",
    "import pandas as pd\n",
    "\n",
    "#chose the city of Portland, with id = biketown\n",
    "response = requests.get('http://api.citybik.es/v2/networks/biketown')\n",
    "response.json()"
   ]
  },
  {
   "cell_type": "markdown",
   "metadata": {},
   "source": [
    "Parse through the response to get the details you want for the bike stations in that city (latitude, longitude, number of bikes). "
   ]
  },
  {
   "cell_type": "code",
   "execution_count": null,
   "metadata": {
    "tags": []
   },
   "outputs": [],
   "source": [
    "response = requests.get('http://api.citybik.es/v2/networks/biketown?fields=stations')\n",
    "response\n",
    "station_data = response.json()\n",
    "#station_data['network']['stations'][0]['latitude']\n",
    "latitude_list = []\n",
    "longitude_list = []\n",
    "bikes_list = []\n",
    "#adding another column called bike_station_location with lat_long_list as values inorder \n",
    "#to have a matching column with other 2 data files for joining\n",
    "lat_long_list = []\n",
    "for i in station_data['network']['stations']:\n",
    "    latitude_list.append(i['latitude'])\n",
    "    longitude_list.append(i['longitude'])\n",
    "    bikes_list.append(i['extra']['slots'])\n",
    "    lat_long_list.append(str(i['latitude']) + ',' + str(i['longitude']))\n",
    "    \n",
    "df_dict = {'bike_station_location':lat_long_list, 'latitude':latitude_list, 'longitude':longitude_list, 'num_of_bikes':bikes_list}\n",
    "df_dict"
   ]
  },
  {
   "cell_type": "code",
   "execution_count": null,
   "metadata": {
    "tags": []
   },
   "outputs": [],
   "source": [
    "station_data"
   ]
  },
  {
   "cell_type": "markdown",
   "metadata": {},
   "source": [
    "Put your parsed results into a DataFrame."
   ]
  },
  {
   "cell_type": "code",
   "execution_count": 22,
   "metadata": {
    "tags": []
   },
   "outputs": [
    {
     "data": {
      "text/html": [
       "<div>\n",
       "<style scoped>\n",
       "    .dataframe tbody tr th:only-of-type {\n",
       "        vertical-align: middle;\n",
       "    }\n",
       "\n",
       "    .dataframe tbody tr th {\n",
       "        vertical-align: top;\n",
       "    }\n",
       "\n",
       "    .dataframe thead th {\n",
       "        text-align: right;\n",
       "    }\n",
       "</style>\n",
       "<table border=\"1\" class=\"dataframe\">\n",
       "  <thead>\n",
       "    <tr style=\"text-align: right;\">\n",
       "      <th></th>\n",
       "      <th>bike_station_location</th>\n",
       "      <th>latitude</th>\n",
       "      <th>longitude</th>\n",
       "      <th>num_of_bikes</th>\n",
       "    </tr>\n",
       "  </thead>\n",
       "  <tbody>\n",
       "    <tr>\n",
       "      <th>0</th>\n",
       "      <td>45.51195046,-122.6141596</td>\n",
       "      <td>45.511950</td>\n",
       "      <td>-122.614160</td>\n",
       "      <td>3</td>\n",
       "    </tr>\n",
       "    <tr>\n",
       "      <th>1</th>\n",
       "      <td>45.54827571,-122.6111636</td>\n",
       "      <td>45.548276</td>\n",
       "      <td>-122.611164</td>\n",
       "      <td>6</td>\n",
       "    </tr>\n",
       "    <tr>\n",
       "      <th>2</th>\n",
       "      <td>45.553917,-122.6020709</td>\n",
       "      <td>45.553917</td>\n",
       "      <td>-122.602071</td>\n",
       "      <td>6</td>\n",
       "    </tr>\n",
       "    <tr>\n",
       "      <th>3</th>\n",
       "      <td>45.51658489,-122.6160378</td>\n",
       "      <td>45.516585</td>\n",
       "      <td>-122.616038</td>\n",
       "      <td>3</td>\n",
       "    </tr>\n",
       "    <tr>\n",
       "      <th>4</th>\n",
       "      <td>45.49333654,-122.6233971</td>\n",
       "      <td>45.493337</td>\n",
       "      <td>-122.623397</td>\n",
       "      <td>3</td>\n",
       "    </tr>\n",
       "    <tr>\n",
       "      <th>...</th>\n",
       "      <td>...</td>\n",
       "      <td>...</td>\n",
       "      <td>...</td>\n",
       "      <td>...</td>\n",
       "    </tr>\n",
       "    <tr>\n",
       "      <th>231</th>\n",
       "      <td>45.51788377,-122.6920402</td>\n",
       "      <td>45.517884</td>\n",
       "      <td>-122.692040</td>\n",
       "      <td>14</td>\n",
       "    </tr>\n",
       "    <tr>\n",
       "      <th>232</th>\n",
       "      <td>45.4902649,-122.5979411</td>\n",
       "      <td>45.490265</td>\n",
       "      <td>-122.597941</td>\n",
       "      <td>9</td>\n",
       "    </tr>\n",
       "    <tr>\n",
       "      <th>233</th>\n",
       "      <td>45.5965621,-122.7478995</td>\n",
       "      <td>45.596562</td>\n",
       "      <td>-122.747900</td>\n",
       "      <td>9</td>\n",
       "    </tr>\n",
       "    <tr>\n",
       "      <th>234</th>\n",
       "      <td>45.5178988,-122.6600522</td>\n",
       "      <td>45.517899</td>\n",
       "      <td>-122.660052</td>\n",
       "      <td>10</td>\n",
       "    </tr>\n",
       "    <tr>\n",
       "      <th>235</th>\n",
       "      <td>45.5002094,-122.670727</td>\n",
       "      <td>45.500209</td>\n",
       "      <td>-122.670727</td>\n",
       "      <td>10</td>\n",
       "    </tr>\n",
       "  </tbody>\n",
       "</table>\n",
       "<p>236 rows × 4 columns</p>\n",
       "</div>"
      ],
      "text/plain": [
       "        bike_station_location   latitude   longitude  num_of_bikes\n",
       "0    45.51195046,-122.6141596  45.511950 -122.614160             3\n",
       "1    45.54827571,-122.6111636  45.548276 -122.611164             6\n",
       "2      45.553917,-122.6020709  45.553917 -122.602071             6\n",
       "3    45.51658489,-122.6160378  45.516585 -122.616038             3\n",
       "4    45.49333654,-122.6233971  45.493337 -122.623397             3\n",
       "..                        ...        ...         ...           ...\n",
       "231  45.51788377,-122.6920402  45.517884 -122.692040            14\n",
       "232   45.4902649,-122.5979411  45.490265 -122.597941             9\n",
       "233   45.5965621,-122.7478995  45.596562 -122.747900             9\n",
       "234   45.5178988,-122.6600522  45.517899 -122.660052            10\n",
       "235    45.5002094,-122.670727  45.500209 -122.670727            10\n",
       "\n",
       "[236 rows x 4 columns]"
      ]
     },
     "execution_count": 22,
     "metadata": {},
     "output_type": "execute_result"
    }
   ],
   "source": [
    "df = pd.DataFrame(df_dict)\n",
    "df"
   ]
  },
  {
   "cell_type": "code",
   "execution_count": 23,
   "metadata": {
    "tags": []
   },
   "outputs": [],
   "source": [
    "#exporting to csv file for future use\n",
    "df.to_csv('city_bikes_portland.csv', index=False)"
   ]
  },
  {
   "cell_type": "code",
   "execution_count": null,
   "metadata": {},
   "outputs": [],
   "source": []
  }
 ],
 "metadata": {
  "kernelspec": {
   "display_name": "Python 3 (ipykernel)",
   "language": "python",
   "name": "python3"
  },
  "language_info": {
   "codemirror_mode": {
    "name": "ipython",
    "version": 3
   },
   "file_extension": ".py",
   "mimetype": "text/x-python",
   "name": "python",
   "nbconvert_exporter": "python",
   "pygments_lexer": "ipython3",
   "version": "3.11.4"
  }
 },
 "nbformat": 4,
 "nbformat_minor": 4
}
